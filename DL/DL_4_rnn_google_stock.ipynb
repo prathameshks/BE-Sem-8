{
 "cells": [
  {
   "cell_type": "code",
   "execution_count": null,
   "id": "b68a6f23",
   "metadata": {},
   "outputs": [],
   "source": [
    "!pip install numpy pandas matplotlib scikit-learn tensorflow"
   ]
  },
  {
   "cell_type": "code",
   "execution_count": null,
   "id": "6d7a451a",
   "metadata": {},
   "outputs": [],
   "source": [
    "import numpy as np\n",
    "import pandas as pd\n",
    "import matplotlib.pyplot as plt\n",
    "from sklearn.preprocessing import MinMaxScaler\n",
    "from sklearn.metrics import mean_squared_error, mean_absolute_error\n",
    "import tensorflow as tf"
   ]
  },
  {
   "cell_type": "code",
   "execution_count": null,
   "id": "095aa73b",
   "metadata": {},
   "outputs": [],
   "source": [
    "# Load dataset\n",
    "data = pd.read_csv('Google_Stock_Price_Train.csv')\n",
    "prices = data['Open'].values.reshape(-1, 1)"
   ]
  },
  {
   "cell_type": "code",
   "execution_count": null,
   "id": "a409b7f2",
   "metadata": {},
   "outputs": [],
   "source": [
    "# Normalize the data\n",
    "scaler = MinMaxScaler()\n",
    "scaled_prices = scaler.fit_transform(prices)"
   ]
  },
  {
   "cell_type": "code",
   "execution_count": null,
   "id": "1eb751c1",
   "metadata": {},
   "outputs": [],
   "source": [
    "# Prepare training data\n",
    "X_train = []\n",
    "y_train = []\n",
    "\n",
    "# Use past 60 prices to predict the next one\n",
    "for i in range(60, len(scaled_prices)):\n",
    "    X_train.append(scaled_prices[i-60:i, 0])\n",
    "    y_train.append(scaled_prices[i, 0])\n",
    "\n",
    "X_train, y_train = np.array(X_train), np.array(y_train)\n",
    "\n",
    "# Reshape input to [samples, time steps, features]\n",
    "X_train = np.reshape(X_train, (X_train.shape[0], X_train.shape[1], 1))\n"
   ]
  },
  {
   "cell_type": "code",
   "execution_count": null,
   "id": "3eecf4e7",
   "metadata": {},
   "outputs": [],
   "source": [
    "# Build the RNN\n",
    "model = tf.keras.Sequential([\n",
    "    tf.keras.layers.SimpleRNN(50, return_sequences=True, input_shape=(X_train.shape[1], 1)),\n",
    "    tf.keras.layers.SimpleRNN(50),\n",
    "    tf.keras.layers.Dense(1)\n",
    "])"
   ]
  },
  {
   "cell_type": "code",
   "execution_count": null,
   "id": "b222774f",
   "metadata": {},
   "outputs": [],
   "source": [
    "# Compile\n",
    "model.compile(optimizer='adam', loss='mse')"
   ]
  },
  {
   "cell_type": "code",
   "execution_count": null,
   "id": "e5ea9c07",
   "metadata": {},
   "outputs": [],
   "source": [
    "# Train\n",
    "model.fit(X_train, y_train, epochs=20, batch_size=32)\n"
   ]
  },
  {
   "cell_type": "code",
   "execution_count": null,
   "id": "7ef69359",
   "metadata": {},
   "outputs": [],
   "source": [
    "# Prepare test data\n",
    "test_data = scaled_prices[-80:]  # Use last part of train set to simulate test\n",
    "X_test = []\n",
    "y_actual = scaled_prices[-20:]"
   ]
  },
  {
   "cell_type": "code",
   "execution_count": null,
   "id": "690e9787",
   "metadata": {},
   "outputs": [],
   "source": [
    "for i in range(60, 80):\n",
    "    X_test.append(test_data[i-60:i, 0])"
   ]
  },
  {
   "cell_type": "code",
   "execution_count": null,
   "id": "f6bfc7c6",
   "metadata": {},
   "outputs": [],
   "source": [
    "X_test = np.array(X_test)\n",
    "X_test = np.reshape(X_test, (X_test.shape[0], X_test.shape[1], 1))"
   ]
  },
  {
   "cell_type": "code",
   "execution_count": null,
   "id": "9ac15246",
   "metadata": {},
   "outputs": [],
   "source": [
    "# Predict\n",
    "y_pred_scaled = model.predict(X_test)\n",
    "y_pred = scaler.inverse_transform(y_pred_scaled)\n",
    "y_true = scaler.inverse_transform(y_actual)"
   ]
  },
  {
   "cell_type": "code",
   "execution_count": null,
   "id": "8d2067f6",
   "metadata": {},
   "outputs": [],
   "source": [
    "# Plot results\n",
    "plt.figure(figsize=(10,6))\n",
    "plt.plot(y_true, label='Actual Google Stock Price')\n",
    "plt.plot(y_pred, label='Predicted Google Stock Price')\n",
    "plt.title('Google Stock Price Prediction using RNN')\n",
    "plt.xlabel('Time')\n",
    "plt.ylabel('Stock Price')\n",
    "plt.legend()\n",
    "plt.grid(True)\n",
    "plt.show()"
   ]
  },
  {
   "cell_type": "code",
   "execution_count": null,
   "id": "18b8f4f2",
   "metadata": {},
   "outputs": [],
   "source": [
    "# Evaluate\n",
    "mse = mean_squared_error(y_true, y_pred)\n",
    "rmse = np.sqrt(mse)\n",
    "mae = mean_absolute_error(y_true, y_pred)"
   ]
  },
  {
   "cell_type": "code",
   "execution_count": null,
   "id": "a58fe955",
   "metadata": {},
   "outputs": [],
   "source": [
    "\n",
    "print(f\"Mean Squared Error (MSE): {mse:.2f}\")\n",
    "print(f\"Root Mean Squared Error (RMSE): {rmse:.2f}\")\n",
    "print(f\"Mean Absolute Error (MAE): {mae:.2f}\")"
   ]
  }
 ],
 "metadata": {
  "kernelspec": {
   "display_name": "Python 3",
   "language": "python",
   "name": "python3"
  },
  "language_info": {
   "codemirror_mode": {
    "name": "ipython",
    "version": 3
   },
   "file_extension": ".py",
   "mimetype": "text/x-python",
   "name": "python",
   "nbconvert_exporter": "python",
   "pygments_lexer": "ipython3",
   "version": "3.12.8"
  }
 },
 "nbformat": 4,
 "nbformat_minor": 5
}
