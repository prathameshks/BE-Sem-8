{
  "nbformat": 4,
  "nbformat_minor": 0,
  "metadata": {
    "colab": {
      "provenance": []
    },
    "kernelspec": {
      "name": "python3",
      "display_name": "Python 3"
    },
    "language_info": {
      "name": "python"
    }
  },
  "cells": [
    {
      "cell_type": "code",
      "execution_count": null,
      "metadata": {
        "colab": {
          "base_uri": "https://localhost:8080/"
        },
        "id": "pkaefX26WDe8",
        "outputId": "2f085ecf-ae1a-4032-fdf7-4fa95be380c8"
      },
      "outputs": [
        {
          "output_type": "stream",
          "name": "stdout",
          "text": [
            "Collecting git+https://github.com/afnan47/cuda.git\n",
            "  Cloning https://github.com/afnan47/cuda.git to /tmp/pip-req-build-nj20dnx_\n",
            "  Running command git clone --filter=blob:none --quiet https://github.com/afnan47/cuda.git /tmp/pip-req-build-nj20dnx_\n",
            "  Resolved https://github.com/afnan47/cuda.git to commit aac710a35f52bb78ab34d2e52517237941399eff\n",
            "  Preparing metadata (setup.py) ... \u001b[?25l\u001b[?25hdone\n",
            "Building wheels for collected packages: NVCCPlugin\n",
            "  Building wheel for NVCCPlugin (setup.py) ... \u001b[?25l\u001b[?25hdone\n",
            "  Created wheel for NVCCPlugin: filename=NVCCPlugin-0.0.2-py3-none-any.whl size=4290 sha256=e2e09ef13abdf39c37644344bcb1d23de1833703596b49d5863eeed74dc14fb7\n",
            "  Stored in directory: /tmp/pip-ephem-wheel-cache-k5ov1vwn/wheels/bc/4e/e0/2d86bd15f671dbeb32144013f1159dba09757fde36dc51a963\n",
            "Successfully built NVCCPlugin\n",
            "Installing collected packages: NVCCPlugin\n",
            "Successfully installed NVCCPlugin-0.0.2\n"
          ]
        }
      ],
      "source": [
        "!pip install git+https://github.com/afnan47/cuda.git"
      ]
    },
    {
      "cell_type": "code",
      "source": [
        "%load_ext nvcc_plugin"
      ],
      "metadata": {
        "colab": {
          "base_uri": "https://localhost:8080/"
        },
        "id": "2VH6jTpiWEbL",
        "outputId": "dee0583f-5e2b-4422-817c-c87fb976eccc"
      },
      "execution_count": null,
      "outputs": [
        {
          "output_type": "stream",
          "name": "stdout",
          "text": [
            "created output directory at /content/src\n",
            "Out bin /content/result.out\n"
          ]
        }
      ]
    },
    {
      "cell_type": "code",
      "source": [
        "%%cu\n",
        "#include <stdio.h>\n",
        "#include <stdlib.h>\n",
        "#include <omp.h>\n",
        "\n",
        "#define SIZE 1000\n",
        "\n",
        "// Function to swap two elements\n",
        "void swap(int *a, int *b) {\n",
        "    int temp = *a;\n",
        "    *a = *b;\n",
        "    *b = temp;\n",
        "}\n",
        "\n",
        "// Parallel Bubble Sort using OpenMP\n",
        "void parallelBubbleSort(int arr[], int n) {\n",
        "    int i, j;\n",
        "    for (i = 0; i < n; i++) {\n",
        "        // Even phase\n",
        "        #pragma omp parallel for default(none) shared(arr, n)\n",
        "        for (j = 0; j < n - 1; j += 2) {\n",
        "            if (arr[j] > arr[j + 1])\n",
        "                swap(&arr[j], &arr[j + 1]);\n",
        "        }\n",
        "\n",
        "        // Odd phase\n",
        "        #pragma omp parallel for default(none) shared(arr, n)\n",
        "        for (j = 1; j < n - 1; j += 2) {\n",
        "            if (arr[j] > arr[j + 1])\n",
        "                swap(&arr[j], &arr[j + 1]);\n",
        "        }\n",
        "    }\n",
        "}\n",
        "\n",
        "// Merge function used in Merge Sort\n",
        "void merge(int arr[], int l, int m, int r) {\n",
        "    int i, j, k;\n",
        "    int n1 = m - l + 1;\n",
        "    int n2 = r - m;\n",
        "\n",
        "    // Temporary arrays\n",
        "    int *L = (int *)malloc(n1 * sizeof(int));\n",
        "    int *R = (int *)malloc(n2 * sizeof(int));\n",
        "\n",
        "    // Copy data to temp arrays\n",
        "    for (i = 0; i < n1; i++)\n",
        "        L[i] = arr[l + i];\n",
        "    for (j = 0; j < n2; j++)\n",
        "        R[j] = arr[m + 1 + j];\n",
        "\n",
        "    // Merge the temp arrays back into arr[l..r]\n",
        "    i = 0; j = 0; k = l;\n",
        "    while (i < n1 && j < n2) {\n",
        "        if (L[i] <= R[j])\n",
        "            arr[k++] = L[i++];\n",
        "        else\n",
        "            arr[k++] = R[j++];\n",
        "    }\n",
        "\n",
        "    // Copy remaining elements\n",
        "    while (i < n1)\n",
        "        arr[k++] = L[i++];\n",
        "    while (j < n2)\n",
        "        arr[k++] = R[j++];\n",
        "\n",
        "    free(L);\n",
        "    free(R);\n",
        "}\n",
        "\n",
        "// Parallel Merge Sort\n",
        "void parallelMergeSort(int arr[], int l, int r) {\n",
        "    if (l < r) {\n",
        "        int m = (l + r) / 2;\n",
        "\n",
        "        #pragma omp parallel sections\n",
        "        {\n",
        "            #pragma omp section\n",
        "            parallelMergeSort(arr, l, m);\n",
        "\n",
        "            #pragma omp section\n",
        "            parallelMergeSort(arr, m + 1, r);\n",
        "        }\n",
        "\n",
        "        merge(arr, l, m, r);\n",
        "    }\n",
        "}\n",
        "\n",
        "// Utility function to fill an array with random numbers\n",
        "void fillArray(int arr[], int size) {\n",
        "    for (int i = 0; i < size; i++)\n",
        "        arr[i] = rand() % 1000;\n",
        "}\n",
        "\n",
        "// Utility function to print the array\n",
        "void printArray(int arr[], int size) {\n",
        "    for (int i = 0; i < size; i++)\n",
        "        printf(\"%d \", arr[i]);\n",
        "    printf(\"\\n\");\n",
        "}\n",
        "\n",
        "int main() {\n",
        "    int arr1[SIZE], arr2[SIZE];\n",
        "\n",
        "    fillArray(arr1, SIZE);\n",
        "    for (int i = 0; i < SIZE; i++)\n",
        "        arr2[i] = arr1[i];  // Copy for second sort\n",
        "\n",
        "    double start, end;\n",
        "\n",
        "    // Parallel Bubble Sort\n",
        "    start = omp_get_wtime();\n",
        "    parallelBubbleSort(arr1, SIZE);\n",
        "    end = omp_get_wtime();\n",
        "    printf(\"Parallel Bubble Sort Time: %f seconds\\n\", end - start);\n",
        "\n",
        "    // Parallel Merge Sort\n",
        "    start = omp_get_wtime();\n",
        "    parallelMergeSort(arr2, 0, SIZE - 1);\n",
        "    end = omp_get_wtime();\n",
        "    printf(\"Parallel Merge Sort Time: %f seconds\\n\", end - start);\n",
        "\n",
        "    return 0;\n",
        "}\n"
      ],
      "metadata": {
        "id": "yLrU7elwWWhW"
      },
      "execution_count": null,
      "outputs": []
    },
    {
      "cell_type": "code",
      "source": [
        "!g++ -fopenmp Sort.cpp -o Sort"
      ],
      "metadata": {
        "id": "Ga1byKbIafq_"
      },
      "execution_count": null,
      "outputs": []
    },
    {
      "cell_type": "code",
      "source": [
        "!./Sort"
      ],
      "metadata": {
        "colab": {
          "base_uri": "https://localhost:8080/"
        },
        "id": "aHnXIS0Y2Z-o",
        "outputId": "d7dcd1b4-d7db-43a9-d548-8d2b5c288da0"
      },
      "execution_count": null,
      "outputs": [
        {
          "output_type": "stream",
          "name": "stdout",
          "text": [
            "Parallel Bubble Sort Time: 0.006775 seconds\n",
            "Parallel Merge Sort Time: 0.000835 seconds\n"
          ]
        }
      ]
    }
  ]
}