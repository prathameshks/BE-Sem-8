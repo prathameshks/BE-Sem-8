{
  "nbformat": 4,
  "nbformat_minor": 0,
  "metadata": {
    "colab": {
      "provenance": []
    },
    "kernelspec": {
      "name": "python3",
      "display_name": "Python 3"
    },
    "language_info": {
      "name": "python"
    }
  },
  "cells": [
    {
      "cell_type": "code",
      "source": [
        "import tensorflow as tf"
      ],
      "metadata": {
        "id": "12mnewnOg32U"
      },
      "execution_count": 1,
      "outputs": []
    },
    {
      "cell_type": "code",
      "source": [
        "model = tf.keras.models.Sequential([\n",
        "tf.keras.layers.Conv2D(32, (3,3), activation='relu', input_shape=(28, 28, 1)),\n",
        "tf.keras.layers.MaxPooling2D((2, 2)),\n",
        "tf.keras.layers.Flatten(),\n",
        "tf.keras.layers.Dense(10, activation='softmax')\n",
        "])"
      ],
      "metadata": {
        "colab": {
          "base_uri": "https://localhost:8080/",
          "height": 0
        },
        "collapsed": true,
        "id": "AQGv_ptug3yi",
        "outputId": "4f4f39a6-7ab9-4544-f921-8a8bc6bd454a"
      },
      "execution_count": 2,
      "outputs": [
        {
          "output_type": "stream",
          "name": "stderr",
          "text": [
            "/usr/local/lib/python3.11/dist-packages/keras/src/layers/convolutional/base_conv.py:107: UserWarning: Do not pass an `input_shape`/`input_dim` argument to a layer. When using Sequential models, prefer using an `Input(shape)` object as the first layer in the model instead.\n",
            "  super().__init__(activity_regularizer=activity_regularizer, **kwargs)\n"
          ]
        }
      ]
    },
    {
      "cell_type": "code",
      "source": [
        "#Load the dataset:\n",
        "mnist = tf.keras.datasets.mnist\n",
        "(x_train, y_train), (x_test, y_test) = mnist.load_data()\n",
        "x_train, x_test = x_train / 255.0, x_test / 255.0"
      ],
      "metadata": {
        "colab": {
          "base_uri": "https://localhost:8080/",
          "height": 0
        },
        "id": "c7zRK8Syg3u7",
        "outputId": "2799fa30-f049-409f-b03a-d6fd9edf7179"
      },
      "execution_count": 3,
      "outputs": [
        {
          "output_type": "stream",
          "name": "stdout",
          "text": [
            "Downloading data from https://storage.googleapis.com/tensorflow/tf-keras-datasets/mnist.npz\n",
            "\u001b[1m11490434/11490434\u001b[0m \u001b[32m━━━━━━━━━━━━━━━━━━━━\u001b[0m\u001b[37m\u001b[0m \u001b[1m0s\u001b[0m 0us/step\n"
          ]
        }
      ]
    },
    {
      "cell_type": "code",
      "source": [
        "!pip install mpi4py"
      ],
      "metadata": {
        "colab": {
          "base_uri": "https://localhost:8080/",
          "height": 0
        },
        "collapsed": true,
        "id": "_ovELx35hpPX",
        "outputId": "9bd10d01-10ec-4541-c3fb-0c1da61692f6"
      },
      "execution_count": 4,
      "outputs": [
        {
          "output_type": "stream",
          "name": "stdout",
          "text": [
            "Collecting mpi4py\n",
            "  Downloading mpi4py-4.0.3.tar.gz (466 kB)\n",
            "\u001b[?25l     \u001b[90m━━━━━━━━━━━━━━━━━━━━━━━━━━━━━━━━━━━━━━━━\u001b[0m \u001b[32m0.0/466.3 kB\u001b[0m \u001b[31m?\u001b[0m eta \u001b[36m-:--:--\u001b[0m\r\u001b[2K     \u001b[90m━━━━━━━━━━━━━━━━━━━━━━━━━━━━━━━━━━━━━━\u001b[0m \u001b[32m466.3/466.3 kB\u001b[0m \u001b[31m21.8 MB/s\u001b[0m eta \u001b[36m0:00:00\u001b[0m\n",
            "\u001b[?25h  Installing build dependencies ... \u001b[?25l\u001b[?25hdone\n",
            "  Getting requirements to build wheel ... \u001b[?25l\u001b[?25hdone\n",
            "  Installing backend dependencies ... \u001b[?25l\u001b[?25hdone\n",
            "  Preparing metadata (pyproject.toml) ... \u001b[?25l\u001b[?25hdone\n",
            "Building wheels for collected packages: mpi4py\n",
            "  Building wheel for mpi4py (pyproject.toml) ... \u001b[?25l\u001b[?25hdone\n",
            "  Created wheel for mpi4py: filename=mpi4py-4.0.3-cp311-cp311-linux_x86_64.whl size=4458266 sha256=6e2f9cca36ed832000660a1364413657a1bae0125a2582c7882f28f6eaf286fd\n",
            "  Stored in directory: /root/.cache/pip/wheels/5c/56/17/bf6ba37aa971a191a8b9eaa188bf5ec855b8911c1c56fb1f84\n",
            "Successfully built mpi4py\n",
            "Installing collected packages: mpi4py\n",
            "Successfully installed mpi4py-4.0.3\n"
          ]
        }
      ]
    },
    {
      "cell_type": "code",
      "source": [
        "# Initialize MPI\n",
        "from mpi4py import MPI\n",
        "comm = MPI.COMM_WORLD\n",
        "rank = comm.Get_rank()\n",
        "size = comm.Get_size()"
      ],
      "metadata": {
        "id": "jbCg4MABg3rb"
      },
      "execution_count": 5,
      "outputs": []
    },
    {
      "cell_type": "code",
      "source": [
        "#Define the training function:\n",
        "def train(model, x_train, y_train, rank, size):\n",
        "    # Split the data across the nodes\n",
        "    n =  len(x_train)\n",
        "    chunk_size = n // size\n",
        "    start = rank *  chunk_size\n",
        "    end = (rank + 1) * chunk_size\n",
        "    if rank == size - 1:\n",
        "        end = n\n",
        "    x_train_chunk = x_train[start:end]\n",
        "    y_train_chunk = y_train[start:end]\n",
        "    # Compile the model\n",
        "    model.compile(optimizer='adam',\n",
        "    loss='sparse_categorical_crossentropy',\n",
        "    metrics=['accuracy'])\n",
        "    # Train the model\n",
        "    model.fit(x_train_chunk, y_train_chunk, epochs=1, batch_size=32)\n",
        "    # Compute the accuracy on the training data\n",
        "    train_loss, train_acc = model.evaluate(x_train_chunk, y_train_chunk, verbose=2)\n",
        "    # Reduce the accuracy across all nodes\n",
        "    train_acc = comm.allreduce(train_acc, op=MPI.SUM)\n",
        "    return train_acc / size"
      ],
      "metadata": {
        "id": "kepvszt-g3oC"
      },
      "execution_count": 6,
      "outputs": []
    },
    {
      "cell_type": "code",
      "execution_count": 7,
      "metadata": {
        "colab": {
          "base_uri": "https://localhost:8080/",
          "height": 0
        },
        "id": "vhf9VW6fgtte",
        "outputId": "e4fcc31b-ce8a-45e1-990f-47cc8a97cedf"
      },
      "outputs": [
        {
          "output_type": "stream",
          "name": "stdout",
          "text": [
            "\u001b[1m1875/1875\u001b[0m \u001b[32m━━━━━━━━━━━━━━━━━━━━\u001b[0m\u001b[37m\u001b[0m \u001b[1m28s\u001b[0m 14ms/step - accuracy: 0.8802 - loss: 0.4142\n",
            "1875/1875 - 9s - 5ms/step - accuracy: 0.9721 - loss: 0.0979\n",
            "313/313 - 1s - 5ms/step - accuracy: 0.9705 - loss: 0.0969\n",
            "Epoch 1: Train accuracy = 0.9721, Test accuracy = 0.9705\n",
            "\u001b[1m1875/1875\u001b[0m \u001b[32m━━━━━━━━━━━━━━━━━━━━\u001b[0m\u001b[37m\u001b[0m \u001b[1m26s\u001b[0m 13ms/step - accuracy: 0.9716 - loss: 0.0981\n",
            "1875/1875 - 8s - 4ms/step - accuracy: 0.9806 - loss: 0.0656\n",
            "313/313 - 2s - 7ms/step - accuracy: 0.9746 - loss: 0.0767\n",
            "Epoch 2: Train accuracy = 0.9806, Test accuracy = 0.9746\n",
            "\u001b[1m1875/1875\u001b[0m \u001b[32m━━━━━━━━━━━━━━━━━━━━\u001b[0m\u001b[37m\u001b[0m \u001b[1m25s\u001b[0m 13ms/step - accuracy: 0.9820 - loss: 0.0637\n",
            "1875/1875 - 9s - 5ms/step - accuracy: 0.9840 - loss: 0.0534\n",
            "313/313 - 1s - 5ms/step - accuracy: 0.9780 - loss: 0.0692\n",
            "Epoch 3: Train accuracy = 0.9840, Test accuracy = 0.9780\n",
            "\u001b[1m1875/1875\u001b[0m \u001b[32m━━━━━━━━━━━━━━━━━━━━\u001b[0m\u001b[37m\u001b[0m \u001b[1m25s\u001b[0m 13ms/step - accuracy: 0.9849 - loss: 0.0507\n",
            "1875/1875 - 9s - 5ms/step - accuracy: 0.9884 - loss: 0.0399\n",
            "313/313 - 2s - 5ms/step - accuracy: 0.9829 - loss: 0.0543\n",
            "Epoch 4: Train accuracy = 0.9884, Test accuracy = 0.9829\n",
            "\u001b[1m1875/1875\u001b[0m \u001b[32m━━━━━━━━━━━━━━━━━━━━\u001b[0m\u001b[37m\u001b[0m \u001b[1m25s\u001b[0m 13ms/step - accuracy: 0.9878 - loss: 0.0421\n",
            "1875/1875 - 9s - 5ms/step - accuracy: 0.9898 - loss: 0.0341\n",
            "313/313 - 2s - 5ms/step - accuracy: 0.9813 - loss: 0.0600\n",
            "Epoch 5: Train accuracy = 0.9898, Test accuracy = 0.9813\n"
          ]
        }
      ],
      "source": [
        "# Run the training loop:\n",
        "epochs = 5\n",
        "for epoch in range(epochs):\n",
        "    # Train the model\n",
        "    train_acc = train(model, x_train, y_train, rank, size)\n",
        "    # Compute the accuracy on the test data\n",
        "    test_loss, test_acc = model.evaluate(x_test, y_test, verbose=2)\n",
        "    # Reduce the accuracy across all nodes\n",
        "    test_acc = comm.allreduce(test_acc, op=MPI.SUM)\n",
        "    # Print the results\n",
        "    if rank ==  0:\n",
        "        print(f\"Epoch {epoch + 1}: Train accuracy = {train_acc:.4f}, Test accuracy = {test_acc / size:.4f}\")"
      ]
    }
  ]
}